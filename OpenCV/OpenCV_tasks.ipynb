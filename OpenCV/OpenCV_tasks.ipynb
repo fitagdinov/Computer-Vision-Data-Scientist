{
 "cells": [
  {
   "cell_type": "code",
   "execution_count": 217,
   "metadata": {},
   "outputs": [
    {
     "name": "stderr",
     "output_type": "stream",
     "text": [
      "Matplotlib is building the font cache; this may take a moment.\n"
     ]
    }
   ],
   "source": [
    "import cv2 as cv\n",
    "import numpy as np\n",
    "import matplotlib.pyplot as plt"
   ]
  },
  {
   "cell_type": "markdown",
   "metadata": {},
   "source": [
    "### open image"
   ]
  },
  {
   "cell_type": "code",
   "execution_count": 240,
   "metadata": {},
   "outputs": [],
   "source": [
    "image=cv.imread(\"image.jpg\")\n",
    "cv.imshow(\"image\", image)\n",
    "cv.waitKey(0)\n",
    "cv.destroyAllWindows()"
   ]
  },
  {
   "cell_type": "code",
   "execution_count": 147,
   "metadata": {},
   "outputs": [],
   "source": [
    "def show(image,name):\n",
    "    cv.imshow(name, image)\n",
    "    cv.waitKey(0)\n",
    "    cv.destroyAllWindows()"
   ]
  },
  {
   "cell_type": "markdown",
   "metadata": {},
   "source": [
    "### resize"
   ]
  },
  {
   "cell_type": "code",
   "execution_count": 242,
   "metadata": {},
   "outputs": [],
   "source": [
    "size=0.5\n",
    "height, width = image.shape[:2]\n",
    "dim=(int(width*size),int(height*size))\n",
    "im = cv.resize(image, dim, interpolation = cv.INTER_AREA)\n",
    "show(im,'resize')"
   ]
  },
  {
   "cell_type": "markdown",
   "metadata": {},
   "source": [
    "### save image "
   ]
  },
  {
   "cell_type": "code",
   "execution_count": 156,
   "metadata": {},
   "outputs": [
    {
     "data": {
      "text/plain": [
       "True"
      ]
     },
     "execution_count": 156,
     "metadata": {},
     "output_type": "execute_result"
    }
   ],
   "source": [
    "cv.imwrite(\"save_image.jpg\",im)"
   ]
  },
  {
   "cell_type": "markdown",
   "metadata": {},
   "source": [
    "### reflection and rotation"
   ]
  },
  {
   "cell_type": "code",
   "execution_count": 158,
   "metadata": {},
   "outputs": [],
   "source": [
    "height, width = im.shape[:2]\n",
    "M=cv.getRotationMatrix2D(center=((width)/2.0,(height)/2.0),angle=180,scale=1)\n",
    "rot=cv.warpAffine(im,M,(width,height))\n",
    "# rot=cv.rotate(im, cv.ROTATE_180)\n",
    "cv.imshow(\"rotation\",rot)\n",
    "cv.waitKey(0)\n",
    "cv.destroyAllWindows()\n",
    "M = np.float32([[-1,0,width],\n",
    "                [0,1, 0]])\n",
    "ref=cv.warpAffine(im,M,(width,height))\n",
    "show(ref,'ref')"
   ]
  },
  {
   "cell_type": "markdown",
   "metadata": {},
   "source": [
    "### thresholding and gray"
   ]
  },
  {
   "cell_type": "code",
   "execution_count": 214,
   "metadata": {},
   "outputs": [],
   "source": [
    "gray_im = cv.cvtColor(im, cv.COLOR_BGR2GRAY)\n",
    "cv.imshow(\"gray\", gray_im)\n",
    "thresholded_im=cv.threshold(gray_im,200,255,0)[1]# black and white image\n",
    "cv.imshow(\"black and white\", thresholded_im)\n",
    "cv.waitKey(0)\n",
    "cv.destroyAllWindows()"
   ]
  },
  {
   "cell_type": "markdown",
   "metadata": {},
   "source": [
    "### crop"
   ]
  },
  {
   "cell_type": "code",
   "execution_count": 241,
   "metadata": {},
   "outputs": [
    {
     "name": "stdout",
     "output_type": "stream",
     "text": [
      "(600, 800, 3)\n"
     ]
    }
   ],
   "source": [
    "print(im.shape)\n",
    "crop=im[10:250,100:500]\n",
    "show(crop,'crop')"
   ]
  },
  {
   "cell_type": "markdown",
   "metadata": {},
   "source": [
    "### contours"
   ]
  },
  {
   "cell_type": "code",
   "execution_count": 215,
   "metadata": {},
   "outputs": [
    {
     "name": "stdout",
     "output_type": "stream",
     "text": [
      "Contour area= 131945.5\n",
      "131945.5\n"
     ]
    }
   ],
   "source": [
    "# gray_im = cv.cvtColor(im, cv.COLOR_BGR2GRAY)\n",
    "# cv.imshow(\"gray\", gray_im)\n",
    "# thresholded_im=cv.threshold(gray_im,200,255,0)[1]# black and white image\n",
    "# cv.imshow(\"black and white\", thresholded_im)\n",
    "# cv.waitKey(0)\n",
    "# cv.destroyAllWindows()\n",
    "\n",
    "contours, hierarchy = cv.findContours(thresholded_im,cv.RETR_LIST ,cv.CHAIN_APPROX_SIMPLE)\n",
    "im2=im.copy()\n",
    "num=len(contours)-2\n",
    "cv.drawContours( im2, contours, num,(255,255,0), 2 )\n",
    "cv.imshow('contours', im2) \n",
    "\n",
    "cv.waitKey()\n",
    "cv.destroyAllWindows()\n",
    "\n",
    "cnt=contours[num]\n",
    "moment=cv.moments(cnt)\n",
    "print(\"Contour area=\",moment['m00'])\n",
    "print(cv.contourArea(cnt))\n",
    "\n"
   ]
  },
  {
   "cell_type": "markdown",
   "metadata": {},
   "source": [
    "### split\n"
   ]
  },
  {
   "cell_type": "code",
   "execution_count": 216,
   "metadata": {},
   "outputs": [],
   "source": [
    "[b, g, r] = cv.split(im)\n",
    "im=cv.merge([b, g , r])\n",
    "show(im,'image')"
   ]
  },
  {
   "cell_type": "markdown",
   "metadata": {},
   "source": [
    "### histograms"
   ]
  },
  {
   "cell_type": "code",
   "execution_count": 236,
   "metadata": {},
   "outputs": [
    {
     "data": {
      "image/png": "[encoded data removed]",
      "text/plain": [
       "<Figure size 432x288 with 1 Axes>"
      ]
     },
     "metadata": {
      "needs_background": "light"
     },
     "output_type": "display_data"
    }
   ],
   "source": [
    "# show(gray_im,'gray')\n",
    "hist = cv.calcHist ([gray_im], [0], None , [256], [0,256])\n",
    "\n",
    "plt.plot(hist)#,256,[0,256]); \n",
    "plt.show()"
   ]
  },
  {
   "cell_type": "code",
   "execution_count": 247,
   "metadata": {},
   "outputs": [
    {
     "data": {
      "image/png": "[encoded data removed]",
      "text/plain": [
       "<Figure size 432x288 with 1 Axes>"
      ]
     },
     "metadata": {
      "needs_background": "light"
     },
     "output_type": "display_data"
    }
   ],
   "source": [
    "color = ('b','g','r')\n",
    "#построенно в диопа\n",
    "for i in range(len(color)):\n",
    "    hist = cv.calcHist ([im], [i], None , [200], [0,200])\n",
    "    plt.plot(hist[:],color = color[i])\n",
    "plt.legend(color)\n",
    "plt.show()"
   ]
  }
 ],
 "metadata": {
  "kernelspec": {
   "display_name": "Python 3 (ipykernel)",
   "language": "python",
   "name": "python3"
  },
  "language_info": {
   "codemirror_mode": {
    "name": "ipython",
    "version": 3
   },
   "file_extension": ".py",
   "mimetype": "text/x-python",
   "name": "python",
   "nbconvert_exporter": "python",
   "pygments_lexer": "ipython3",
   "version": "3.9.7"
  },
  "nbTranslate": {
   "displayLangs": [
    "*"
   ],
   "hotkey": "alt-t",
   "langInMainMenu": true,
   "sourceLang": "en",
   "targetLang": "fr",
   "useGoogleTranslate": true
  }
 },
 "nbformat": 4,
 "nbformat_minor": 2
}
